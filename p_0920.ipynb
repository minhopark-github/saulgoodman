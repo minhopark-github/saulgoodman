{
 "cells": [
  {
   "cell_type": "code",
   "execution_count": 5,
   "id": "d1114d24",
   "metadata": {},
   "outputs": [
    {
     "name": "stdout",
     "output_type": "stream",
     "text": [
      "{'name': '뭐', 'type': '사가지', 'origin': '한국'} <class 'dict'>\n",
      "<class 'dict'>\n"
     ]
    },
    {
     "data": {
      "text/plain": [
       "{'name': '뭐',\n",
       " 'type': '사가지',\n",
       " 'origin': '한국',\n",
       " 'price': 5000,\n",
       " 'dic in dic': {'룰루': '랄라', '오우': '예'}}"
      ]
     },
     "execution_count": 5,
     "metadata": {},
     "output_type": "execute_result"
    }
   ],
   "source": [
    "a={\n",
    "    \"name\": \"뭐\",\n",
    "    \"type\": \"사가지\",\n",
    "    \"origin\": \"한국\"\n",
    "}\n",
    "print(a, type(a))\n",
    "\n",
    "a[\"price\"]=5000\n",
    "a[\"dic in dic\"]={\"룰루\": \"랄라\", \"오우\": \"예\"}\n",
    "print(type(a[\"dic in dic\"]))\n",
    "a"
   ]
  },
  {
   "cell_type": "code",
   "execution_count": 21,
   "id": "3d5b6878",
   "metadata": {},
   "outputs": [
    {
     "name": "stdout",
     "output_type": "stream",
     "text": [
      "name: 기사\n",
      "level: 12\n",
      "sword: \"불꽃의 검\"\n",
      "armor: \"풀플레이트\"\n",
      "skill: 베기\n",
      "skill: 세게 베기\n",
      "skill: 아주 세게 베기\n"
     ]
    }
   ],
   "source": [
    "a={\n",
    "    \"name\":\"기사\",\n",
    "    \"level\": 12,\n",
    "    \"items\":{\n",
    "        \"sword\": \"불꽃의 검\",\n",
    "        \"armor\": \"풀플레이트\",},\n",
    "    \"skill\":[\"베기\", \"세게 베기\", \"아주 세게 베기\"]\n",
    "    }\n",
    "for i in a:\n",
    "    if type(a[i])==str:\n",
    "        print(\"name: 기사\")\n",
    "    elif type(a[i])==int:\n",
    "        print(\"level: 12\")\n",
    "    elif type(a[i])==dict:\n",
    "        print('sword: \"불꽃의 검\"\\narmor: \"풀플레이트\"')\n",
    "    else:\n",
    "        print(\"skill: 베기\\nskill: 세게 베기\\nskill: 아주 세게 베기\")\n",
    "\n",
    "        \n",
    "        "
   ]
  },
  {
   "cell_type": "code",
   "execution_count": 33,
   "id": "2d924653",
   "metadata": {},
   "outputs": [
    {
     "name": "stdout",
     "output_type": "stream",
     "text": [
      "{1: 3, 2: 4, 6: 1, 8: 2, 4: 3, 3: 3, 9: 3, 5: 2, 7: 2}\n"
     ]
    }
   ],
   "source": [
    "numbers = [1,2,6,8,4,3,2,1,9,5,4,9,7,2,1,3,5,4,8,9,7,2,3]\n",
    "counter={}\n",
    "\n",
    "for number in numbers:\n",
    "    t=0\n",
    "    for i in range(0,len(numbers)):\n",
    "        if number==numbers[i]:\n",
    "            t+=1\n",
    "        counter[number]=t\n",
    "print(counter)"
   ]
  },
  {
   "cell_type": "code",
   "execution_count": 45,
   "id": "f4dc4326",
   "metadata": {},
   "outputs": [
    {
     "name": "stdout",
     "output_type": "stream",
     "text": [
      "숫자 열 입력1 1 1 3 2 1 4 3 2 4 2 1 2 66 3 2 1\n",
      "{1: 6, 3: 3, 2: 5, 4: 2, 66: 1}\n"
     ]
    }
   ],
   "source": [
    "msg=input(\"숫자 열 입력\") #숫자열을 입력받아 도수분포표 작성\n",
    "a=msg.split()\n",
    "t=0\n",
    "for i in a: \n",
    "    a[t]= int(i)\n",
    "    t+=1\n",
    "#print(type(a[0]))\n",
    "#print(a)\n",
    "counter={}\n",
    "\n",
    "for number in a:\n",
    "    t=0\n",
    "    for i in range(0,len(a)):\n",
    "        if number==a[i]:\n",
    "            t+=1\n",
    "        counter[number]=t\n",
    "print(counter)"
   ]
  },
  {
   "cell_type": "code",
   "execution_count": 46,
   "id": "a8690a3f",
   "metadata": {},
   "outputs": [
    {
     "name": "stdout",
     "output_type": "stream",
     "text": [
      "15\n",
      "20\n",
      "25\n"
     ]
    }
   ],
   "source": [
    "numbers=[5,15,6,20,7,25]\n",
    "for i in numbers:\n",
    "    if i<10:\n",
    "        continue\n",
    "    print(i)"
   ]
  },
  {
   "cell_type": "code",
   "execution_count": 48,
   "id": "0b3f4691",
   "metadata": {},
   "outputs": [
    {
     "name": "stdout",
     "output_type": "stream",
     "text": [
      "{'name': '기사', 'hp': 200, 'mp': 30, 'level': 5}\n"
     ]
    }
   ],
   "source": [
    "key_list=[\"name\", \"hp\", \"mp\", \"level\"]\n",
    "value_list=[\"기사\", 200, 30, 5]\n",
    "c={}\n",
    "t=0\n",
    "for i in key_list:\n",
    "    c[i]=value_list[t]\n",
    "    t+=1\n",
    "print(c)"
   ]
  },
  {
   "cell_type": "code",
   "execution_count": 52,
   "id": "28efb3c5",
   "metadata": {},
   "outputs": [
    {
     "name": "stdout",
     "output_type": "stream",
     "text": [
      "최대가 되는 경우: 50*50=2500\n"
     ]
    }
   ],
   "source": [
    "max_value=0\n",
    "a=0\n",
    "b=0\n",
    "for i in range(1,51):\n",
    "    j= 100-i\n",
    "    if max_value<i*j:\n",
    "        a=i; b=j;max_value=i*j\n",
    "print(\"최대가 되는 경우: {}*{}={}\".format(a,b,max_value))"
   ]
  },
  {
   "cell_type": "code",
   "execution_count": 53,
   "id": "b7d1323c",
   "metadata": {},
   "outputs": [
    {
     "name": "stdout",
     "output_type": "stream",
     "text": [
      "최대값은 7번째 원소인 132\n"
     ]
    }
   ],
   "source": [
    "a=[1,2,3,34,1,23,132,12]\n",
    "max_v=0\n",
    "v=0\n",
    "for i in range(len(a)):\n",
    "    if max_v<a[i]:\n",
    "        max_v=a[i]\n",
    "        v=i+1\n",
    "print(\"최대값은 {}번째 원소인 {}\".format(v,max_v))"
   ]
  },
  {
   "cell_type": "code",
   "execution_count": null,
   "id": "b933d4b9",
   "metadata": {},
   "outputs": [],
   "source": []
  }
 ],
 "metadata": {
  "kernelspec": {
   "display_name": "Python 3",
   "language": "python",
   "name": "python3"
  },
  "language_info": {
   "codemirror_mode": {
    "name": "ipython",
    "version": 3
   },
   "file_extension": ".py",
   "mimetype": "text/x-python",
   "name": "python",
   "nbconvert_exporter": "python",
   "pygments_lexer": "ipython3",
   "version": "3.8.8"
  }
 },
 "nbformat": 4,
 "nbformat_minor": 5
}
