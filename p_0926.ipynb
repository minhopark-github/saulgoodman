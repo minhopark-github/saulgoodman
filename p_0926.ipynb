{
 "cells": [
  {
   "cell_type": "code",
   "execution_count": 1,
   "source": [
    "# 1. type numbers or words 2.classify them into two groups(numbers and words) 3. print their elements\r\n",
    "\r\n",
    "\r\n",
    "msg=input(\"put any number or word : \").split()\r\n",
    "n=[]\r\n",
    "w=[]\r\n",
    "for i in msg:\r\n",
    "    try:\r\n",
    "        n+=[float(i)]       \r\n",
    "    except:\r\n",
    "        w+=[str(i)]\r\n",
    "print(\"numbers : \", n)\r\n",
    "print(\"words : \", w)\r\n"
   ],
   "outputs": [
    {
     "output_type": "stream",
     "name": "stdout",
     "text": [
      "numbers :  [123.0, 1.0, 23.0]\n",
      "words :  ['d', 'da', '1e', 'asd']\n"
     ]
    }
   ],
   "metadata": {}
  },
  {
   "cell_type": "code",
   "execution_count": 16,
   "source": [
    "a=[1,'a',2,'b',3,'c',4,'d']\r\n",
    "t=0\r\n",
    "for i in a:\r\n",
    "    try:\r\n",
    "        t+=int(i)\r\n",
    "    finally:\r\n",
    "        print(i,\"원소를 반복중\", \"t값은\",t)\r\n",
    "# try fianlly는 유일하게 except가 없는 try 구문이다. 에러가 발생하더라도 결과값\r\n",
    "#을 알고 싶을 때 유용하게 사용 가능할거 같다."
   ],
   "outputs": [
    {
     "output_type": "stream",
     "name": "stdout",
     "text": [
      "1 원소를 반복중 t값은 1\n",
      "a 원소를 반복중 t값은 1\n"
     ]
    },
    {
     "output_type": "error",
     "ename": "ValueError",
     "evalue": "invalid literal for int() with base 10: 'a'",
     "traceback": [
      "\u001b[1;31m---------------------------------------------------------------------------\u001b[0m",
      "\u001b[1;31mValueError\u001b[0m                                Traceback (most recent call last)",
      "\u001b[1;32m~\\AppData\\Local\\Temp/ipykernel_15664/2216647989.py\u001b[0m in \u001b[0;36m<module>\u001b[1;34m\u001b[0m\n\u001b[0;32m      3\u001b[0m \u001b[1;32mfor\u001b[0m \u001b[0mi\u001b[0m \u001b[1;32min\u001b[0m \u001b[0ma\u001b[0m\u001b[1;33m:\u001b[0m\u001b[1;33m\u001b[0m\u001b[1;33m\u001b[0m\u001b[0m\n\u001b[0;32m      4\u001b[0m     \u001b[1;32mtry\u001b[0m\u001b[1;33m:\u001b[0m\u001b[1;33m\u001b[0m\u001b[1;33m\u001b[0m\u001b[0m\n\u001b[1;32m----> 5\u001b[1;33m         \u001b[0mt\u001b[0m\u001b[1;33m+=\u001b[0m\u001b[0mint\u001b[0m\u001b[1;33m(\u001b[0m\u001b[0mi\u001b[0m\u001b[1;33m)\u001b[0m\u001b[1;33m\u001b[0m\u001b[1;33m\u001b[0m\u001b[0m\n\u001b[0m\u001b[0;32m      6\u001b[0m     \u001b[1;32mfinally\u001b[0m\u001b[1;33m:\u001b[0m\u001b[1;33m\u001b[0m\u001b[1;33m\u001b[0m\u001b[0m\n\u001b[0;32m      7\u001b[0m         \u001b[0mprint\u001b[0m\u001b[1;33m(\u001b[0m\u001b[0mi\u001b[0m\u001b[1;33m,\u001b[0m\u001b[1;34m\"원소를 반복중\"\u001b[0m\u001b[1;33m,\u001b[0m \u001b[1;34m\"t값은\"\u001b[0m\u001b[1;33m,\u001b[0m\u001b[0mt\u001b[0m\u001b[1;33m)\u001b[0m\u001b[1;33m\u001b[0m\u001b[1;33m\u001b[0m\u001b[0m\n",
      "\u001b[1;31mValueError\u001b[0m: invalid literal for int() with base 10: 'a'"
     ]
    }
   ],
   "metadata": {}
  },
  {
   "cell_type": "code",
   "execution_count": null,
   "source": [
    "Exception as e"
   ],
   "outputs": [],
   "metadata": {}
  }
 ],
 "metadata": {
  "celltoolbar": "Raw Cell Format",
  "kernelspec": {
   "name": "python3",
   "display_name": "Python 3.9.7 64-bit"
  },
  "language_info": {
   "codemirror_mode": {
    "name": "ipython",
    "version": 3
   },
   "file_extension": ".py",
   "mimetype": "text/x-python",
   "name": "python",
   "nbconvert_exporter": "python",
   "pygments_lexer": "ipython3",
   "version": "3.9.7"
  },
  "interpreter": {
   "hash": "61e46d49d64adacaf0f95395bc136c7bf7410abc8bb66593aabca85dfa0b59f5"
  }
 },
 "nbformat": 4,
 "nbformat_minor": 5
}