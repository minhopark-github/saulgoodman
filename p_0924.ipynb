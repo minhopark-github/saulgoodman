{
 "cells": [
  {
   "cell_type": "code",
   "execution_count": null,
   "id": "b5e8c9fc",
   "metadata": {},
   "outputs": [],
   "source": [
    "memo={}\n",
    "\n",
    "def f(x,y):\n",
    "    if (x,y) in memo:\n",
    "        return memo[(x,y)]\n",
    "    if x<0:\n",
    "        return 0\n",
    "    if x==0:\n",
    "        return 1\n",
    "    c=0\n",
    "    for i in range(y,11):\n",
    "       c+=f(x-i,i)\n",
    "    memo[(x,y)]=c\n",
    "    return c\n",
    "print(f(100,2))"
   ]
  },
  {
   "cell_type": "code",
   "execution_count": null,
   "id": "47a3276d",
   "metadata": {},
   "outputs": [],
   "source": [
    "def f(x):\n",
    "    z=[]\n",
    "    for i in x:\n",
    "        if type(i) is list:\n",
    "            z+=f(i)\n",
    "        else:\n",
    "            z+=[i]\n",
    "    return z\n",
    "a=[[1,23,4,1,2,3,5],1,2,6,[1,3,6,1],2,3,5]\n",
    "print(f(a))"
   ]
  },
  {
   "cell_type": "code",
   "execution_count": null,
   "id": "3c433e92",
   "metadata": {},
   "outputs": [],
   "source": [
    "def f(x):\n",
    "    return x[0]+x[-1]\n",
    "\n",
    "f([1,2,3,4,5])"
   ]
  },
  {
   "cell_type": "code",
   "execution_count": 51,
   "id": "2a9da5c3",
   "metadata": {},
   "outputs": [
    {
     "name": "stdout",
     "output_type": "stream",
     "text": [
      "5\n",
      "[20, 37, 58, 72, 91, 100]\n"
     ]
    }
   ],
   "source": [
    "def solution(L, x):\n",
    "    answer = []\n",
    "    t=[]\n",
    "    answer=L\n",
    "    if x<=max(L):\n",
    "        for i in L:\n",
    "            if i>=x:\n",
    "                t+=[answer.index(i)]\n",
    "    else:\n",
    "        t=[len(L)]\n",
    "        print(t[0])\n",
    "    answer.insert(t[0],x)\n",
    "    return answer\n",
    "L = [20, 37, 58, 72, 91]\n",
    "x = 100\n",
    "print(solution(L,x))"
   ]
  },
  {
   "cell_type": "code",
   "execution_count": 42,
   "id": "621fddfc",
   "metadata": {},
   "outputs": [
    {
     "name": "stdout",
     "output_type": "stream",
     "text": [
      "[20, 37, 58, 72, 91, 100]\n"
     ]
    }
   ],
   "source": [
    "L = [20, 37, 58, 72, 91]\n",
    "x = 65 \n",
    "L.insert(len(L),100)\n",
    "print(L)"
   ]
  },
  {
   "cell_type": "code",
   "execution_count": 53,
   "id": "8e518e31",
   "metadata": {},
   "outputs": [
    {
     "name": "stdout",
     "output_type": "stream",
     "text": [
      "5\n",
      "[1, 2, 3, 4, 0, 5]\n"
     ]
    }
   ],
   "source": [
    "a=[1,2,3,4,5]\n",
    "print(a[-1])\n",
    "a.insert(-1,0)\n",
    "print(a)\n"
   ]
  },
  {
   "cell_type": "code",
   "execution_count": null,
   "id": "65f2d599",
   "metadata": {},
   "outputs": [],
   "source": [
    "def solution(L, x):\n",
    "    answer = L\n",
    "    if x>L[-1]:\n",
    "        answer.append(-1,x)\n",
    "    for i in L:\n",
    "    insert()\n",
    "        \n",
    "    return answer\n",
    "L = [20, 37, 58, 72, 91]\n",
    "x = 100\n",
    "print(solution(L,x))"
   ]
  },
  {
   "cell_type": "code",
   "execution_count": null,
   "id": "f3bef9b0",
   "metadata": {},
   "outputs": [],
   "source": [
    "try except \n",
    "try except else\n",
    "try except else finally\n",
    "try except finally\n",
    "try finally"
   ]
  },
  {
   "cell_type": "code",
   "execution_count": 56,
   "id": "af3d37cf",
   "metadata": {},
   "outputs": [
    {
     "name": "stdout",
     "output_type": "stream",
     "text": [
      "ㅁ\n",
      "숫자를 입력해 주세요.\n"
     ]
    }
   ],
   "source": [
    "try:\n",
    "    print(float(input())**2)\n",
    "except:\n",
    "    print(\"숫자를 입력해 주세요.\")"
   ]
  },
  {
   "cell_type": "code",
   "execution_count": 58,
   "id": "a7968f3f",
   "metadata": {},
   "outputs": [
    {
     "name": "stdout",
     "output_type": "stream",
     "text": [
      "파일명 입력 > asd\n"
     ]
    },
    {
     "ename": "NameError",
     "evalue": "name 'file_open' is not defined",
     "output_type": "error",
     "traceback": [
      "\u001b[1;31m---------------------------------------------------------------------------\u001b[0m",
      "\u001b[1;31mNameError\u001b[0m                                 Traceback (most recent call last)",
      "\u001b[1;32m<ipython-input-58-86791486b708>\u001b[0m in \u001b[0;36m<module>\u001b[1;34m\u001b[0m\n\u001b[0;32m      1\u001b[0m \u001b[0mfile_name\u001b[0m\u001b[1;33m=\u001b[0m \u001b[0minput\u001b[0m\u001b[1;33m(\u001b[0m\u001b[1;34m\"파일명 입력 > \"\u001b[0m\u001b[1;33m)\u001b[0m\u001b[1;33m\u001b[0m\u001b[1;33m\u001b[0m\u001b[0m\n\u001b[1;32m----> 2\u001b[1;33m \u001b[0mfile\u001b[0m\u001b[1;33m=\u001b[0m\u001b[0mfile_open\u001b[0m\u001b[1;33m(\u001b[0m\u001b[0mfile_name\u001b[0m\u001b[1;33m,\u001b[0m\u001b[1;34m\"a\"\u001b[0m\u001b[1;33m)\u001b[0m \u001b[1;31m#파일 오픈 함수 호출\u001b[0m\u001b[1;33m\u001b[0m\u001b[1;33m\u001b[0m\u001b[0m\n\u001b[0m\u001b[0;32m      3\u001b[0m \u001b[0mfile_write\u001b[0m\u001b[1;33m(\u001b[0m\u001b[0mfile\u001b[0m\u001b[1;33m)\u001b[0m \u001b[1;31m#파일에 저장하는 함수 호출\u001b[0m\u001b[1;33m\u001b[0m\u001b[1;33m\u001b[0m\u001b[0m\n\u001b[0;32m      4\u001b[0m \u001b[0mfile\u001b[0m\u001b[1;33m.\u001b[0m\u001b[0mclose\u001b[0m\u001b[1;33m(\u001b[0m\u001b[1;33m)\u001b[0m\u001b[1;33m\u001b[0m\u001b[1;33m\u001b[0m\u001b[0m\n\u001b[0;32m      5\u001b[0m \u001b[1;31m#파일에서 자료를 가져와서 변수에 저장\u001b[0m\u001b[1;33m\u001b[0m\u001b[1;33m\u001b[0m\u001b[1;33m\u001b[0m\u001b[0m\n",
      "\u001b[1;31mNameError\u001b[0m: name 'file_open' is not defined"
     ]
    }
   ],
   "source": [
    "file_name= input(\"파일명 입력 > \")\n",
    "file=file_open(file_name,\"a\") #파일 오픈 함수 호출\n",
    "file_write(file) #파일에 저장하는 함수 호출\n",
    "file.close()\n",
    "#파일에서 자료를 가져와서 변수에 저장\n",
    "names, scores = [], []\n",
    "with file_open(file_name,\"r\") as file:\n",
    "    for itme in file:\n",
    "        values = item.split(',')\n",
    "        names.append(values[0])\n",
    "        scores.append(int(values[1]))\n",
    "#검색할 이름 입력\n",
    "name=input(\"find name >\")\n",
    "#자료 검색 : 존재하면 출력, 없으면 \"Not Found 출력\"\n",
    "if nmae in names:\n",
    "    print(\"{} : {}\".format(names,scores[names,index[name]]))\n",
    "else:\n",
    "    print(\"Not Found\")\n",
    "# 전체 성적의 합과 평균, 인원수 출력"
   ]
  }
 ],
 "metadata": {
  "kernelspec": {
   "display_name": "Python 3",
   "language": "python",
   "name": "python3"
  },
  "language_info": {
   "codemirror_mode": {
    "name": "ipython",
    "version": 3
   },
   "file_extension": ".py",
   "mimetype": "text/x-python",
   "name": "python",
   "nbconvert_exporter": "python",
   "pygments_lexer": "ipython3",
   "version": "3.8.8"
  }
 },
 "nbformat": 4,
 "nbformat_minor": 5
}
