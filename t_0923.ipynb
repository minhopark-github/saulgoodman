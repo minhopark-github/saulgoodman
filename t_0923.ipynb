{
 "cells": [
  {
   "cell_type": "code",
   "execution_count": null,
   "id": "3c7158a4",
   "metadata": {},
   "outputs": [],
   "source": [
    "a=[273,103,5,32,65,9,72,800,99]\n",
    "for i in a:\n",
    "    if i>=100:\n",
    "        print(\"- 100 이상의 수: {}\".format(i))"
   ]
  },
  {
   "cell_type": "code",
   "execution_count": null,
   "id": "c8e10bf9",
   "metadata": {},
   "outputs": [],
   "source": [
    "a=[273,103,5,32,65,9,72,800,99]\n",
    "for i in a:\n",
    "    if i%2==1:\n",
    "        print(\"{} 는 홀수입니다.\".format(i))\n",
    "    else:\n",
    "        print(\"{} 는 짝수입니다.\".format(i))"
   ]
  },
  {
   "cell_type": "code",
   "execution_count": null,
   "id": "5778966f",
   "metadata": {},
   "outputs": [],
   "source": [
    "a=[273,103,5,32,65,9,72,800,99]\n",
    "for i in a:\n",
    "    print(\"{} 는 {}자리수입니다.\".format(i,len(str(i))))"
   ]
  },
  {
   "cell_type": "code",
   "execution_count": null,
   "id": "29f5a578",
   "metadata": {},
   "outputs": [],
   "source": [
    "a=[\n",
    "    [1,2,3],\n",
    "    [4,5,6,7],\n",
    "    [8,9],\n",
    "    10\n",
    "]\n",
    "o=[]\n",
    "for i in a:\n",
    "    if type(i) is list:\n",
    "        for j in i:\n",
    "            o+=[j]\n",
    "            print(j)\n",
    "    else:\n",
    "        o+=[i]\n",
    "        print(i)\n",
    "print(o)\n",
    "\n",
    "#10이 없었을때, 가장 간단한 풀이\n",
    "#for i in a:\n",
    "#    for j in i:\n",
    "#        print(j)"
   ]
  },
  {
   "cell_type": "code",
   "execution_count": null,
   "id": "156b3170",
   "metadata": {},
   "outputs": [],
   "source": [
    "a={\n",
    "    \"name\": \"이주열\",\n",
    "    \"type\": \"바보\",\n",
    "    \"origin\": \"한국\"\n",
    "}\n",
    "print(a, type(a))\n",
    "\n",
    "a[\"price\"]=5000\n",
    "a[\"dic in dic\"]={\"딕\": \"셔\", \"너\": \"리\"}\n",
    "print(type(a[\"dic in dic\"]))\n",
    "print(a)\n",
    "key=input(\"검색할 key: \")\n",
    "if key in a:\n",
    "    print(a[key])\n",
    "else:\n",
    "    print(\"존재하지 않음\")"
   ]
  },
  {
   "cell_type": "code",
   "execution_count": null,
   "id": "6c933319",
   "metadata": {},
   "outputs": [],
   "source": [
    "for i in a:\n",
    "    print(\"key :'{}' value :'{}'\".format(i,a[i]))"
   ]
  },
  {
   "cell_type": "code",
   "execution_count": null,
   "id": "0db8ec8f",
   "metadata": {},
   "outputs": [],
   "source": [
    "v=a.get(input(\"key: \"))\n",
    "\n",
    "if v==None:\n",
    "    print(\"존재하지 않는 키\")\n",
    "else:\n",
    "    print(\"value: \",v)"
   ]
  },
  {
   "cell_type": "code",
   "execution_count": null,
   "id": "8209e542",
   "metadata": {},
   "outputs": [],
   "source": [
    "a={\n",
    "    \"name\":\"기사\",\n",
    "    \"level\": 12,\n",
    "    \"items\":{\n",
    "        \"sword\": \"불꽃의 검\",\n",
    "        \"armor\": \"풀플레이트\",},\n",
    "    \"skill\":[\"베기\", \"세게 베기\", \"아주 세게 베기\"]\n",
    "    }\n",
    "for i in a:\n",
    "    if type(a[i])==str or type(a[i])==int :\n",
    "        print(\"{}: {}\".format(i,a[i]))\n",
    "        #print(\"name: 기사\")\n",
    "        #print(\"level: 12\")\n",
    "    elif type(a[i])==dict:\n",
    "        for j in a[i]:\n",
    "            print('{}: \"{}\"'.format(j,a[i][j]))\n",
    "       # print('sword: \"불꽃의 검\"\\narmor: \"풀플레이트\"')\n",
    "    else:\n",
    "        for k in a[i]:\n",
    "            print(\"{}: {}\".format(i, k))\n",
    "        #print(\"skill: 베기\\nskill: 세게 베기\\nskill: 아주 세게 베기\")"
   ]
  },
  {
   "cell_type": "code",
   "execution_count": null,
   "id": "66ea9f0a",
   "metadata": {},
   "outputs": [],
   "source": [
    "max_v=0\n",
    "a=0\n",
    "b=0\n",
    "for i in range(1,51):\n",
    "    j=100-i\n",
    "    if max_v<i*j:\n",
    "        max_v=i*j\n",
    "        a=i\n",
    "        b=j\n",
    "print(\"최대가 되는 경우: {}*{}={}\".format(a,b,max_v))"
   ]
  },
  {
   "cell_type": "code",
   "execution_count": null,
   "id": "a8449fed",
   "metadata": {},
   "outputs": [],
   "source": [
    "k_l=[\"name\",\"hp\",\"mp\",\"level\"]\n",
    "v_l=[\"기사\",200,30,5]\n",
    "c={}\n",
    "for i in range(len(k_l)):\n",
    "    c[k_l[i]]=v_l[i]\n",
    "print(c)"
   ]
  },
  {
   "cell_type": "code",
   "execution_count": null,
   "id": "32d6d9e6",
   "metadata": {
    "scrolled": true
   },
   "outputs": [],
   "source": [
    "for i in range(5):\n",
    "    print(str(i)+\"=반복 변수\")\n",
    "print()\n",
    "for i in range(5,10):\n",
    "    print(str(i)+\"=반복 변수\")\n",
    "print()\n",
    "for i in range(0,10,3):\n",
    "    print(str(i)+\"=반복 변수\")\n",
    "print()"
   ]
  },
  {
   "cell_type": "code",
   "execution_count": null,
   "id": "aee4f3d6",
   "metadata": {},
   "outputs": [],
   "source": [
    "def f(s,x,y):\n",
    "    if s==\"+\":\n",
    "            return x+y\n",
    "    elif s==\"-\":\n",
    "            return x-y\n",
    "    elif s==\"*\":\n",
    "            return x*y\n",
    "    elif s==\"/\":\n",
    "        if y!=0:\n",
    "            return x/y\n",
    "        else:\n",
    "            return (\"0으로 나눌 수 없음\")\n",
    "    else:\n",
    "        return (\"4칙연산 기호가 아님\")\n",
    "s=\"\"\n",
    "while s!='#':\n",
    "    msg=input(\"연산자 숫자 숫자 입력\")\n",
    "    a=msg.split()\n",
    "    s=a[0]\n",
    "    if len(a)==3:\n",
    "        v1=float(a[1]); v2=float(a[2])\n",
    "        print(f(s,v1,v2))\n",
    "    if s=='#':\n",
    "        break\n"
   ]
  },
  {
   "cell_type": "code",
   "execution_count": null,
   "id": "68dbbff2",
   "metadata": {},
   "outputs": [],
   "source": [
    "msg=input(\"숫자 입력 : \")\n",
    "a=msg.split()\n",
    "t=[]\n",
    "for i in a:\n",
    "    t+=[float(i)]\n",
    "\n",
    "#print(t, type(t[0]))\n",
    "for i,v in enumerate(t):\n",
    "    print(\"{}인덱스의 요소는 {}이다\".format(i,v))\n",
    "print(\"최대값은 {}, 최소값은 {}, 합계는 {}\".format(max(t),min(t),sum(t)))"
   ]
  },
  {
   "cell_type": "code",
   "execution_count": null,
   "id": "21ae1c1e",
   "metadata": {},
   "outputs": [],
   "source": [
    "a={\n",
    "    \"name\":\"기사\",\n",
    "    \"level\": 12,\n",
    "    \"items\":{\n",
    "        \"sword\": \"불꽃의 검\",\n",
    "        \"armor\": \"풀플레이트\",},\n",
    "    \"skill\":[\"베기\", \"세게 베기\", \"아주 세게 베기\"]\n",
    "    }\n",
    "for k,e in a.items():\n",
    "    if type(e)==str or type(e)==int :\n",
    "        print(\"{}: {}\".format(k,e))\n",
    "        #print(\"name: 기사\")\n",
    "        #print(\"level: 12\")\n",
    "    elif type(e)==dict:\n",
    "        for j in e:\n",
    "            print('{}: \"{}\"'.format(j,e[j]))\n",
    "       # print('sword: \"불꽃의 검\"\\narmor: \"풀플레이트\"')\n",
    "    else:\n",
    "        for l in e:\n",
    "            print(\"{}: {}\".format(k, l))\n",
    "        #print(\"skill: 베기\\nskill: 세게 베기\\nskill: 아주 세게 베기\")"
   ]
  },
  {
   "cell_type": "code",
   "execution_count": null,
   "id": "e5f9df31",
   "metadata": {},
   "outputs": [],
   "source": [
    "while True:\n",
    "    msg=input(\"입력\")\n",
    "    a=msg.split()\n",
    "    print(a)\n",
    "    if a.count('#')>=1:\n",
    "        break"
   ]
  },
  {
   "cell_type": "code",
   "execution_count": null,
   "id": "9f68f206",
   "metadata": {},
   "outputs": [],
   "source": [
    "msg=input(\"숫자 입력 : \")\n",
    "a=msg.split()\n",
    "t=[]\n",
    "for i in a:\n",
    "    t+=[int(i)]\n",
    "list_6=[i for i in t if i%6==0]\n",
    "list_3=[i for i in t if i%3==0 and i%6!=0]\n",
    "list_2=[i for i in t if i%2==0 and i%6!=0]\n",
    "\n",
    "list_a=[i for i in t if i%6 and i%3 ==0]\n",
    "print(list_6, list_3, list_2)"
   ]
  },
  {
   "cell_type": "code",
   "execution_count": null,
   "id": "c7973853",
   "metadata": {},
   "outputs": [],
   "source": [
    "for i in range(1,7):\n",
    "    print(\"{}%6 and {}%3: {} and {} = {}\".format(i,i,i%6, i%3, i%6 and i%3))\n",
    "    print(\"{}%6 and {}%3==0: {} and {}==0 = {}\".format(i,i,i%6, i%3, i%6 and i%3==0))"
   ]
  },
  {
   "cell_type": "code",
   "execution_count": null,
   "id": "736817a8",
   "metadata": {},
   "outputs": [],
   "source": [
    "print(0 and 0)\n",
    "print(0==0)\n",
    "print(0 and 0 == 0)\n",
    "print((0 and 0)==0)\n",
    "print(0 and (0==0))"
   ]
  },
  {
   "cell_type": "code",
   "execution_count": null,
   "id": "d74c88a3",
   "metadata": {},
   "outputs": [],
   "source": [
    "print(3 and 0)\n",
    "print(3 and 0 == 0)\n"
   ]
  },
  {
   "cell_type": "code",
   "execution_count": null,
   "id": "465ea75b",
   "metadata": {},
   "outputs": [],
   "source": [
    "for i in range(1,7):\n",
    "    print(\"{}%6 or {}%3: {} or {} = {}\".format(i,i,i%6, i%3, i%6 or i%3))\n",
    "    print(\"{}%6 or {}%3==0: {} or {}==0 = {}\".format(i,i,i%6, i%3, i%6 or i%3==0))"
   ]
  },
  {
   "cell_type": "code",
   "execution_count": null,
   "id": "a64bf6f9",
   "metadata": {},
   "outputs": [],
   "source": [
    "for i in range(1,7):\n",
    "    if i%6 or i%3==0:\n",
    "        print(i)"
   ]
  },
  {
   "cell_type": "code",
   "execution_count": null,
   "id": "bc03afa3",
   "metadata": {},
   "outputs": [],
   "source": [
    "print(5 or 0)\n",
    "print(5 and 0)"
   ]
  }
 ],
 "metadata": {
  "kernelspec": {
   "display_name": "Python 3",
   "language": "python",
   "name": "python3"
  },
  "language_info": {
   "codemirror_mode": {
    "name": "ipython",
    "version": 3
   },
   "file_extension": ".py",
   "mimetype": "text/x-python",
   "name": "python",
   "nbconvert_exporter": "python",
   "pygments_lexer": "ipython3",
   "version": "3.8.8"
  }
 },
 "nbformat": 4,
 "nbformat_minor": 5
}
