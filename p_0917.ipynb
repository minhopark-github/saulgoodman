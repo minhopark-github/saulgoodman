{
 "cells": [
  {
   "cell_type": "code",
   "execution_count": null,
   "id": "d3d6e1e2",
   "metadata": {},
   "outputs": [],
   "source": [
    "string_a=\"{}\".format(10)\n",
    "print(string_a)\n",
    "print(type(string_a))"
   ]
  },
  {
   "cell_type": "code",
   "execution_count": null,
   "id": "d4ee85d5",
   "metadata": {},
   "outputs": [],
   "source": [
    "format_a = \"{}만 원\".format(5000)\n",
    "format_b = \"파이썬 열공하여 첫 연봉 {}만 원 만들기\".format(5000)\n",
    "format_c = \"{} {} {}\".format(3000, 4000, 5000)\n",
    "format_d = \"{} {} {}\".format(1, \"문자열\", True)\n",
    "\n",
    "print(format_a, format_b, format_c, format_d)"
   ]
  },
  {
   "cell_type": "code",
   "execution_count": null,
   "id": "503c821a",
   "metadata": {},
   "outputs": [],
   "source": [
    "a=\"{:d}\".format(52)\n",
    "b=\"{:5d}\".format(52)\n",
    "c=\"{:05d}\".format(52)\n",
    "d=\"{:05d}\".format(-52)\n",
    "print(a,\"\\n\",b,\"\\n\",c,\"\\n\",d)\n",
    "print(a)\n",
    "print(b)\n",
    "print(c)\n",
    "print(d)"
   ]
  },
  {
   "cell_type": "code",
   "execution_count": null,
   "id": "02e8167e",
   "metadata": {},
   "outputs": [],
   "source": [
    "f=\"{:+d}\".format(-52)\n",
    "print(f)"
   ]
  },
  {
   "cell_type": "code",
   "execution_count": null,
   "id": "78a0a8ae",
   "metadata": {},
   "outputs": [],
   "source": [
    "h=\"{:+5d}\".format(52)\n",
    "i=\"{:+5d}\".format(-52)\n",
    "j=\"{:=+5d}\".format(52)\n",
    "k=\"{:=+5d}\".format(-52)\n",
    "l=\"{:+05d}\".format(52)\n",
    "m=\"{:+05d}\".format(-52)\n",
    "n=\"{:=+05d}\".format(52)\n",
    "o=\"{:=+05d}\".format(-52)\n",
    "\n",
    "\n",
    "print(h); print(i); print(j); print(k); print(l); print(m); print(n); print(o)\n",
    "\n",
    "#+52에 앞에 0으로 채우려면 어떻게 하지?\n",
    "#0 말고 다른 숫자 넣으면 칸으로 인식하는데. 1로 채울수는 없나?\n"
   ]
  },
  {
   "cell_type": "code",
   "execution_count": null,
   "id": "21061741",
   "metadata": {},
   "outputs": [],
   "source": [
    "a=\"{}\".format('asdasd')\n",
    "print(a)\n",
    "a.upper()\n",
    "print(a)\n",
    "a.lower()\n",
    "print(a)"
   ]
  },
  {
   "cell_type": "code",
   "execution_count": null,
   "id": "65c5c43e",
   "metadata": {},
   "outputs": [],
   "source": [
    "print(\"TrainA10\".isidentifier())"
   ]
  },
  {
   "cell_type": "code",
   "execution_count": null,
   "id": "f6bad315",
   "metadata": {},
   "outputs": [],
   "source": [
    "\"{:5d}\".format(42)"
   ]
  },
  {
   "cell_type": "code",
   "execution_count": null,
   "id": "3ed944ec",
   "metadata": {},
   "outputs": [],
   "source": [
    "print()\n",
    "str_a=input(\"문자를 입력> \")\n",
    "print(str_a[1:6])\n",
    "print(str_a[-3:])"
   ]
  },
  {
   "cell_type": "code",
   "execution_count": null,
   "id": "6b457103",
   "metadata": {},
   "outputs": [],
   "source": [
    "a=\"abcde\"\n",
    "a.upper()"
   ]
  },
  {
   "cell_type": "code",
   "execution_count": null,
   "id": "e62067df",
   "metadata": {},
   "outputs": [],
   "source": [
    "a=\"abcde\"\n",
    "a.upper()\n",
    "print(a)\n",
    "print(a.upper())\n",
    "a.upper()\n",
    "\n",
    "\n",
    "#왜 첫째 줄 a.upper()가 출력이 안되지?"
   ]
  },
  {
   "cell_type": "code",
   "execution_count": null,
   "id": "fd02f957",
   "metadata": {},
   "outputs": [],
   "source": [
    "a=\"10 20 30 40 50\".split(\" \")\n",
    "print(a)"
   ]
  },
  {
   "cell_type": "code",
   "execution_count": null,
   "id": "f1482dec",
   "metadata": {},
   "outputs": [],
   "source": [
    "input_str=\"입력된 숫자는 {}와 {}입니다.\"\n",
    "data=input(\"두 수 입력\")\n",
    "input_a=data[0]\n",
    "input_b=data[2]\n",
    "print(input_str.format(input_a, input_b))"
   ]
  },
  {
   "cell_type": "code",
   "execution_count": null,
   "id": "0b072256",
   "metadata": {},
   "outputs": [],
   "source": [
    "msg=input(\"숫자 입력 a,b ex) 123123,3232\")\n",
    "t=msg.find(',')\n",
    "a=float(msg[:t]); b=float(msg[t+1:])\n",
    "\n",
    "print(\"a+b :\", a+b)\n",
    "print(\"a-b :\", a-b)\n",
    "print(\"a*b :\", a*b)\n",
    "print(\"a/b :\", a/b)\n",
    "print(\"a/b 소수점 두자리까지 :\", \"{:.2f}\".format(a/b))"
   ]
  },
  {
   "cell_type": "code",
   "execution_count": null,
   "id": "ad4cc0e4",
   "metadata": {},
   "outputs": [],
   "source": [
    "import datetime\n",
    "now=datetime.datetime.now()\n",
    "print(now)\n",
    "if now.hour<12:\n",
    "    print(\"현재 시각 {}시, 오전\".format(now.hour))\n",
    "else:\n",
    "    print(\"현재 시각 {}시, 오후\".format(now.hour))"
   ]
  },
  {
   "cell_type": "code",
   "execution_count": null,
   "id": "e0f6ff9c",
   "metadata": {},
   "outputs": [],
   "source": [
    "import datetime\n",
    "now=datetime.datetime.now()\n",
    "\n",
    "if 3<= now.month <=5:\n",
    "    print(\"{}월, 봄이다.\".format(now.month))\n",
    "if 6<= now.month <=8:\n",
    "    print(\"{}월, 여름이다.\".format(now.month))\n",
    "if 9<= now.month <=11:\n",
    "    print(\"{}월, 가을이다.\".format(now.month))\n",
    "else:\n",
    "    print(\"{}월, 겨울이다.\".format(now.month))"
   ]
  },
  {
   "cell_type": "code",
   "execution_count": null,
   "id": "bba578d7",
   "metadata": {},
   "outputs": [],
   "source": [
    "a=\"        Hello python programing     \"\n",
    "print(a.upper())\n",
    "print(a.lower())\n",
    "print(\"-{}-\".format(a))\n",
    "print(\"-{}-\".format(a.strip()))\n",
    "print(\"-{}-\".format(a).lstrip())\n",
    "print(\"-{}-\".format(a).rstrip())\n",
    "print(\"-{}-\".format(a.strip()).isalnum())\n",
    "\n",
    "c=a.split()\n",
    "print(c[0]+c[1]+c[2])\n",
    "\n",
    "b=\"{}\".format(a.strip())\n",
    "print(b)\n",
    "\n",
    "while b.isalnum()==False:\n",
    "    t=b.find(' ')\n",
    "    #print(t)\n",
    "    b=b[:t]+b[t+1:]\n",
    "    #print(b)\n",
    "print(b)\n",
    "print(\"{}\".format(b.strip()).isalnum())\n"
   ]
  },
  {
   "cell_type": "code",
   "execution_count": null,
   "id": "660d1bf9",
   "metadata": {},
   "outputs": [],
   "source": [
    "msg=input(\"두 수를 입력: \")\n",
    "a=msg.split()\n",
    "a[0]==a[1]"
   ]
  },
  {
   "cell_type": "code",
   "execution_count": null,
   "id": "4c5521eb",
   "metadata": {},
   "outputs": [],
   "source": [
    "msg=input(\"두 수를 입력: \")\n",
    "a=msg.split()\n",
    "x=float(a[0]); y=float(a[1])\n",
    "if x<y:\n",
    "    print(y-x)\n",
    "    if x!=0 and y!=0:\n",
    "        print(x%y)\n",
    "else:\n",
    "    print(x-y)\n",
    "    if x!=0 and y!=0:\n",
    "        print(y%x)\n",
    "\n"
   ]
  },
  {
   "cell_type": "code",
   "execution_count": null,
   "id": "c64714a0",
   "metadata": {},
   "outputs": [],
   "source": [
    "import datetime as dt\n",
    "now=dt.datetime.now()\n",
    "print(now.year,\"년\")\n",
    "print(now.month,\"월\")\n",
    "print(now.day,\"일\")\n",
    "print(now.hour,\"시\")\n",
    "print(now.minute,\"분\")\n",
    "print(now.second,\"초\")"
   ]
  },
  {
   "cell_type": "code",
   "execution_count": null,
   "id": "28936e05",
   "metadata": {},
   "outputs": [],
   "source": [
    "v=float(input(\"점수 입력, 100점 만점\"))\n",
    "if v >90:\n",
    "    print(\"A\")\n",
    "elif v>80:\n",
    "    print(\"B\")\n",
    "elif v>70:\n",
    "    print(\"C\")\n",
    "elif v>60:\n",
    "    print(\"D\")\n",
    "else:\n",
    "    print(\"F\")\n"
   ]
  },
  {
   "cell_type": "code",
   "execution_count": null,
   "id": "359016a8",
   "metadata": {},
   "outputs": [],
   "source": [
    "msg=input(\"숫자 연산 숫자 입력\")\n",
    "a=msg.split()\n",
    "if a[1]=='+':\n",
    "    print(float(a[0])+float(a[2]))\n",
    "elif a[1]=='-':\n",
    "    print(float(a[0])-float(a[2]))\n",
    "elif a[1]=='*':\n",
    "    print(float(a[0])*float(a[2]))\n",
    "\n",
    "else :\n",
    "    print(\"기호 오류\")   \n",
    "#그냥 if로 쓰면 마지막 if문에 대한 else만 인식해서 *가 아닌 기호은 모두 else 적용시킨다\n"
   ]
  },
  {
   "cell_type": "code",
   "execution_count": null,
   "id": "2f6c2f1e",
   "metadata": {},
   "outputs": [],
   "source": [
    "msg=input(\"띄어쓰기 하고 아무거나 입력\")\n",
    "\n",
    "a=msg.split()\n",
    "print(a[-1])\n",
    "del a[-1]\n",
    "print(a[2])\n",
    "b=a+input(\"추가 데이터 입력\").split()\n",
    "print(b)\n",
    "a.clear()\n"
   ]
  },
  {
   "cell_type": "code",
   "execution_count": null,
   "id": "49fce854",
   "metadata": {},
   "outputs": [],
   "source": [
    "a=[1,2,1,2]\n",
    "while 2 in a:\n",
    "    a.remove(2)\n",
    "a"
   ]
  },
  {
   "cell_type": "code",
   "execution_count": null,
   "id": "8d33c60c",
   "metadata": {},
   "outputs": [],
   "source": [
    "list=[12312,213,53,3242,3,423,4,23,2]\n",
    "for i in list:\n",
    "    print(i)"
   ]
  },
  {
   "cell_type": "code",
   "execution_count": null,
   "id": "808b6dbf",
   "metadata": {},
   "outputs": [],
   "source": [
    "a=[1,23,5,2,3,2]\n",
    "a.insert(2,[3,1,2,3])\n",
    "print(a)\n",
    "for i in a:\n",
    "    print(i)\n",
    "    print(type(i))"
   ]
  },
  {
   "cell_type": "code",
   "execution_count": null,
   "id": "f0bfbabb",
   "metadata": {},
   "outputs": [],
   "source": [
    "msg=input(\"입력\")\n",
    "a=msg.split()\n",
    "tot=0\n",
    "for i in a:\n",
    "    if i.isnumeric():\n",
    "        tot += int(i)\n",
    "print(tot)   "
   ]
  },
  {
   "cell_type": "code",
   "execution_count": null,
   "id": "e863752f",
   "metadata": {},
   "outputs": [],
   "source": [
    "msg=input(\"숫자 입력\")\n",
    "a=int(msg)\n",
    "for i in range(1,10):\n",
    "    print(\"{}*{}={}\".format(a,i,a*i))"
   ]
  },
  {
   "cell_type": "code",
   "execution_count": null,
   "id": "1a814d35",
   "metadata": {},
   "outputs": [],
   "source": [
    "for i in range(1,10,2):\n",
    "    print(i)"
   ]
  }
 ],
 "metadata": {
  "kernelspec": {
   "display_name": "Python 3",
   "language": "python",
   "name": "python3"
  },
  "language_info": {
   "codemirror_mode": {
    "name": "ipython",
    "version": 3
   },
   "file_extension": ".py",
   "mimetype": "text/x-python",
   "name": "python",
   "nbconvert_exporter": "python",
   "pygments_lexer": "ipython3",
   "version": "3.8.8"
  }
 },
 "nbformat": 4,
 "nbformat_minor": 5
}
