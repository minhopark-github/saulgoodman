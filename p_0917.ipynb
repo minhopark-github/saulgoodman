{
 "cells": [
  {
   "cell_type": "code",
   "execution_count": 2,
   "id": "d3d6e1e2",
   "metadata": {},
   "outputs": [
    {
     "name": "stdout",
     "output_type": "stream",
     "text": [
      "10\n",
      "<class 'str'>\n"
     ]
    }
   ],
   "source": [
    "string_a=\"{}\".format(10)\n",
    "print(string_a)\n",
    "print(type(string_a))"
   ]
  },
  {
   "cell_type": "code",
   "execution_count": 4,
   "id": "d4ee85d5",
   "metadata": {},
   "outputs": [
    {
     "name": "stdout",
     "output_type": "stream",
     "text": [
      "5000만 원 파이썬 열공하여 첫 연봉 5000만 원 만들기 3000 4000 5000 1 문자열 True\n"
     ]
    }
   ],
   "source": [
    "format_a = \"{}만 원\".format(5000)\n",
    "format_b = \"파이썬 열공하여 첫 연봉 {}만 원 만들기\".format(5000)\n",
    "format_c = \"{} {} {}\".format(3000, 4000, 5000)\n",
    "format_d = \"{} {} {}\".format(1, \"문자열\", True)\n",
    "\n",
    "print(format_a, format_b, format_c, format_d)"
   ]
  },
  {
   "cell_type": "code",
   "execution_count": 10,
   "id": "503c821a",
   "metadata": {},
   "outputs": [
    {
     "name": "stdout",
     "output_type": "stream",
     "text": [
      "52 \n",
      "    52 \n",
      " 00052 \n",
      " -0052\n",
      "52\n",
      "   52\n",
      "00052\n",
      "-0052\n"
     ]
    }
   ],
   "source": [
    "a=\"{:d}\".format(52)\n",
    "b=\"{:5d}\".format(52)\n",
    "c=\"{:05d}\".format(52)\n",
    "d=\"{:05d}\".format(-52)\n",
    "print(a,\"\\n\",b,\"\\n\",c,\"\\n\",d)\n",
    "print(a)\n",
    "print(b)\n",
    "print(c)\n",
    "print(d)"
   ]
  },
  {
   "cell_type": "code",
   "execution_count": 17,
   "id": "02e8167e",
   "metadata": {},
   "outputs": [
    {
     "name": "stdout",
     "output_type": "stream",
     "text": [
      "-52\n"
     ]
    }
   ],
   "source": [
    "f=\"{:+d}\".format(-52)\n",
    "print(f)"
   ]
  },
  {
   "cell_type": "code",
   "execution_count": 26,
   "id": "78a0a8ae",
   "metadata": {},
   "outputs": [
    {
     "name": "stdout",
     "output_type": "stream",
     "text": [
      "  +52\n",
      "  -52\n",
      "+  52\n",
      "-  52\n",
      "+0052\n",
      "-0052\n",
      "+0052\n",
      "-0052\n"
     ]
    }
   ],
   "source": [
    "h=\"{:+5d}\".format(52)\n",
    "i=\"{:+5d}\".format(-52)\n",
    "j=\"{:=+5d}\".format(52)\n",
    "k=\"{:=+5d}\".format(-52)\n",
    "l=\"{:+05d}\".format(52)\n",
    "m=\"{:+05d}\".format(-52)\n",
    "n=\"{:=+05d}\".format(52)\n",
    "o=\"{:=+05d}\".format(-52)\n",
    "\n",
    "\n",
    "print(h); print(i); print(j); print(k); print(l); print(m); print(n); print(o)\n",
    "\n",
    "#+52에 앞에 0으로 채우려면 어떻게 하지?\n",
    "#0 말고 다른 숫자 넣으면 칸으로 인식하는데. 1로 채울수는 없나?\n"
   ]
  },
  {
   "cell_type": "code",
   "execution_count": null,
   "id": "21061741",
   "metadata": {},
   "outputs": [],
   "source": []
  }
 ],
 "metadata": {
  "kernelspec": {
   "display_name": "Python 3",
   "language": "python",
   "name": "python3"
  },
  "language_info": {
   "codemirror_mode": {
    "name": "ipython",
    "version": 3
   },
   "file_extension": ".py",
   "mimetype": "text/x-python",
   "name": "python",
   "nbconvert_exporter": "python",
   "pygments_lexer": "ipython3",
   "version": "3.8.8"
  }
 },
 "nbformat": 4,
 "nbformat_minor": 5
}
