{
 "cells": [
  {
   "cell_type": "code",
   "execution_count": 4,
   "id": "b9222505",
   "metadata": {},
   "outputs": [
    {
     "name": "stdout",
     "output_type": "stream",
     "text": [
      "abc\n",
      "def\n",
      "hij\n",
      "klm\n",
      "\n",
      "abc\n",
      "def\n",
      "hij\n",
      "klm\n",
      "\n",
      "abc\n",
      "def\n",
      "hij\n",
      "klm\n",
      "\n"
     ]
    }
   ],
   "source": [
    "def a(n,*vs):\n",
    "    for i in range(n):\n",
    "        for v in vs:\n",
    "            print(v)\n",
    "        \n",
    "        print()\n",
    "\n",
    "a(3, 'abc', 'def', 'hij', 'klm')"
   ]
  },
  {
   "cell_type": "code",
   "execution_count": 8,
   "id": "8f7baf37",
   "metadata": {},
   "outputs": [
    {
     "name": "stdout",
     "output_type": "stream",
     "text": [
      "v\n",
      "v\n",
      "v\n",
      "v\n",
      "v\n",
      "w\n",
      "w\n"
     ]
    }
   ],
   "source": [
    "def a(v,n=2):\n",
    "    for i in range(n):\n",
    "        print(v)\n",
    "a('v',5)\n",
    "a('w')"
   ]
  },
  {
   "cell_type": "code",
   "execution_count": 15,
   "id": "d2ca23c3",
   "metadata": {},
   "outputs": [
    {
     "name": "stdout",
     "output_type": "stream",
     "text": [
      "a\n",
      "b\n",
      "c\n",
      "3\n",
      "\n",
      "a\n",
      "b\n",
      "c\n",
      "3\n",
      "\n",
      "a\n",
      "b\n",
      "c\n",
      "\n",
      "a\n",
      "b\n",
      "c\n",
      "\n",
      "a\n",
      "b\n",
      "c\n",
      "\n"
     ]
    }
   ],
   "source": [
    "def a(*v,n=2):\n",
    "    for i in range(n):\n",
    "        for j in v:\n",
    "            print(j)\n",
    "        print()\n",
    "a('a', 'b', 'c', 3)\n",
    "a('a', 'b', 'c', n=3)"
   ]
  },
  {
   "cell_type": "code",
   "execution_count": 17,
   "id": "4c362335",
   "metadata": {},
   "outputs": [
    {
     "name": "stdout",
     "output_type": "stream",
     "text": [
      "10 20 30 60\n",
      "10 100 200 310\n",
      "100 200 10 310\n",
      "10 10 200 220\n"
     ]
    }
   ],
   "source": [
    "def t(a,b=10,c=100):\n",
    "    print(a,b,c, a+b+c)\n",
    "\n",
    "t(10,20,30)\n",
    "t(a=10,b=100,c=200)\n",
    "t(c=10,a=100,b=200)\n",
    "t(10,c=200)"
   ]
  },
  {
   "cell_type": "code",
   "execution_count": 18,
   "id": "65ac0929",
   "metadata": {},
   "outputs": [
    {
     "name": "stdout",
     "output_type": "stream",
     "text": [
      "A\n"
     ]
    }
   ],
   "source": [
    "def return_test():\n",
    "    print(\"A\")\n",
    "    return\n",
    "    print(\"B\")\n",
    "\n",
    "return_test()"
   ]
  },
  {
   "cell_type": "code",
   "execution_count": 21,
   "id": "15540ba4",
   "metadata": {},
   "outputs": [
    {
     "data": {
      "text/plain": [
       "55"
      ]
     },
     "execution_count": 21,
     "metadata": {},
     "output_type": "execute_result"
    }
   ],
   "source": [
    "def a(s,e):\n",
    "    t=0\n",
    "    for i in range(e-s+1): #for i in range(s,e+1)\n",
    "        t+=s+i #t+=i\n",
    "    return t \n",
    "\n",
    "a(1,10)"
   ]
  },
  {
   "cell_type": "code",
   "execution_count": 22,
   "id": "dea77a87",
   "metadata": {},
   "outputs": [
    {
     "name": "stdout",
     "output_type": "stream",
     "text": [
      "3150\n"
     ]
    }
   ],
   "source": [
    "def a(*v):\n",
    "    t=1\n",
    "    for i in v:\n",
    "       t*=i\n",
    "    return t\n",
    "print(a(5,7,9,10))"
   ]
  },
  {
   "cell_type": "code",
   "execution_count": 23,
   "id": "e44cfc72",
   "metadata": {},
   "outputs": [
    {
     "name": "stdout",
     "output_type": "stream",
     "text": [
      "1 2 6 24 120\n"
     ]
    }
   ],
   "source": [
    "def fac(n):\n",
    "    if n==0:\n",
    "        return 1\n",
    "    else:\n",
    "        return n*fac(n-1)\n",
    "print(fac(1), fac(2), fac(3), fac(4), fac(5))"
   ]
  },
  {
   "cell_type": "code",
   "execution_count": 24,
   "id": "db644a37",
   "metadata": {},
   "outputs": [
    {
     "name": "stdout",
     "output_type": "stream",
     "text": [
      "1 3 6 10 15\n"
     ]
    }
   ],
   "source": [
    "def s(n):\n",
    "    if n==0:\n",
    "        return 0\n",
    "    else:\n",
    "        return n+s(n-1)\n",
    "print(s(1), s(2), s(3), s(4), s(5))"
   ]
  }
 ],
 "metadata": {
  "kernelspec": {
   "display_name": "Python 3",
   "language": "python",
   "name": "python3"
  },
  "language_info": {
   "codemirror_mode": {
    "name": "ipython",
    "version": 3
   },
   "file_extension": ".py",
   "mimetype": "text/x-python",
   "name": "python",
   "nbconvert_exporter": "python",
   "pygments_lexer": "ipython3",
   "version": "3.8.8"
  }
 },
 "nbformat": 4,
 "nbformat_minor": 5
}
