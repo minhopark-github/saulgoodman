{
 "cells": [
  {
   "cell_type": "code",
   "execution_count": 1,
   "id": "d4446edc",
   "metadata": {},
   "outputs": [
    {
     "name": "stdout",
     "output_type": "stream",
     "text": [
      "1\n",
      "1\n",
      "2\n",
      "3\n",
      "5\n"
     ]
    }
   ],
   "source": [
    "def a(n):\n",
    "    if n==1 or n==2:\n",
    "        return 1\n",
    "    else:\n",
    "        return a(n-1)+a(n-2)\n",
    "print(a(1))\n",
    "print(a(2))\n",
    "print(a(3))\n",
    "print(a(4))\n",
    "print(a(5))\n"
   ]
  },
  {
   "cell_type": "code",
   "execution_count": 12,
   "id": "d5704f3e",
   "metadata": {},
   "outputs": [
    {
     "name": "stdout",
     "output_type": "stream",
     "text": [
      "102334155 77\n"
     ]
    }
   ],
   "source": [
    "memo={1:1, 2:1}\n",
    "c=0\n",
    "\n",
    "def a(n):\n",
    "    global c\n",
    "    c+=1\n",
    "    if n in memo:\n",
    "        return memo[n]\n",
    "    else:\n",
    "        y=a(n-1)+a(n-2)\n",
    "        memo[n]=y\n",
    "        return y\n",
    "print(a(40), c)"
   ]
  },
  {
   "cell_type": "code",
   "execution_count": 9,
   "id": "75d31b72",
   "metadata": {},
   "outputs": [
    {
     "name": "stdout",
     "output_type": "stream",
     "text": [
      "<class 'int'>\n",
      "<class 'int'>\n"
     ]
    }
   ],
   "source": [
    "a={'a':1, 'b':1, 'c':2, 'd':3, 'e':5}\n",
    "print(type(a['a']))\n",
    "b={1:1, 2:1, 3:2, 4:3, 5:5}\n",
    "print(type(b[1]))"
   ]
  },
  {
   "cell_type": "code",
   "execution_count": 23,
   "id": "9108a274",
   "metadata": {},
   "outputs": [
    {
     "name": "stdout",
     "output_type": "stream",
     "text": [
      "437420\n"
     ]
    }
   ],
   "source": [
    "c=0\n",
    "\n",
    "def a(t,r): # t: total, r:residue\n",
    "    global c\n",
    "    if t<0:\n",
    "        return\n",
    "    if t==0:\n",
    "        c+=1\n",
    "        #print(r)\n",
    "    else:\n",
    "        for i in range(r,11):\n",
    "            a(t-i,i)\n",
    "            #print(t-i,t,i, c)\n",
    "        return\n",
    "#a(6,2)\n",
    "#print(c)\n",
    "a(100,2)\n",
    "print(c)"
   ]
  },
  {
   "cell_type": "code",
   "execution_count": 26,
   "id": "2d53beab",
   "metadata": {},
   "outputs": [
    {
     "name": "stdout",
     "output_type": "stream",
     "text": [
      "437420\n"
     ]
    }
   ],
   "source": [
    "t=100\n",
    "r=2\n",
    "lm=11\n",
    "\n",
    "def f(x,y):\n",
    "    if x<0:\n",
    "        return 0\n",
    "    if x==0:\n",
    "        return 1\n",
    "    c=0\n",
    "    for i in range(y,lm):\n",
    "        c+=f(x-i,i)\n",
    "    return c\n",
    "print(f(t,r))\n"
   ]
  },
  {
   "cell_type": "code",
   "execution_count": 27,
   "id": "aa747733",
   "metadata": {},
   "outputs": [
    {
     "name": "stdout",
     "output_type": "stream",
     "text": [
      "437420\n"
     ]
    }
   ],
   "source": [
    "t=100\n",
    "r=2\n",
    "lm=11\n",
    "memo={}\n",
    "\n",
    "def f(x,y):\n",
    "    key=str((x,y))\n",
    "    if key in memo:\n",
    "        return memo[key]\n",
    "    if x<0:\n",
    "        return 0\n",
    "    if x==0:\n",
    "        return 1\n",
    "    c=0\n",
    "    for i in range(y,lm):\n",
    "        c+=f(x-i,i)\n",
    "    memo[key]=c\n",
    "    return c\n",
    "print(f(t,r))\n"
   ]
  },
  {
   "cell_type": "code",
   "execution_count": 34,
   "id": "6f089cd6",
   "metadata": {},
   "outputs": [
    {
     "name": "stdout",
     "output_type": "stream",
     "text": [
      "5100\n"
     ]
    }
   ],
   "source": [
    "t=100\n",
    "x=0\n",
    "for r in range(0,t+1):\n",
    "    a=t-r\n",
    "    for c in range(0,a+1):\n",
    "        p=a-c\n",
    "        max_v=max([r,c,p])\n",
    "        #print(r,c,p,\"max:\",max_v)\n",
    "        if [r,c,p].count(max_v)==1:\n",
    "            x+=1\n",
    "print(x)"
   ]
  },
  {
   "cell_type": "code",
   "execution_count": 44,
   "id": "06e6136e",
   "metadata": {},
   "outputs": [
    {
     "name": "stdout",
     "output_type": "stream",
     "text": [
      "[1, 2, 3, 2, 3, 6, 3, 2, 3, 4, 1, 6, 4]\n",
      "['a', 'b', 'a', 'b']\n"
     ]
    }
   ],
   "source": [
    "def flatten(data):\n",
    "    a=[]\n",
    "    for i in data:\n",
    "        if type(i) is list:\n",
    "            a+=flatten(i)\n",
    "        \n",
    "        else:\n",
    "            a+=[i]\n",
    "    return a\n",
    "\n",
    "x=[1,2,[3,2,3,6],3,[2,3,4],[1,6,4]]\n",
    "print(flatten(x))\n",
    "y=['a','b',['a','b']]\n",
    "print(flatten(y))"
   ]
  },
  {
   "cell_type": "code",
   "execution_count": 55,
   "id": "d6ce3f04",
   "metadata": {},
   "outputs": [
    {
     "name": "stdout",
     "output_type": "stream",
     "text": [
      "True\n",
      "[0, 2, 4, 6, 8, 10, 12, 14, 16, 18, 20, 22, 24, 26, 28, 30, 32, 34, 36, 38, 40, 42, 44, 46, 48, 50, 52, 54, 56, 58, 60, 62, 64, 66, 68, 70, 72, 74, 76, 78, 80, 82, 84, 86, 88, 90, 92, 94, 96, 98]\n"
     ]
    }
   ],
   "source": [
    "def even_n(n):\n",
    "    return n%2==0\n",
    "print(even_n(10))\n",
    "\n",
    "a=list(range(100))\n",
    "b=filter(lambda n: n % 2== 0, a)\n",
    "print(list(b))"
   ]
  }
 ],
 "metadata": {
  "kernelspec": {
   "display_name": "Python 3",
   "language": "python",
   "name": "python3"
  },
  "language_info": {
   "codemirror_mode": {
    "name": "ipython",
    "version": 3
   },
   "file_extension": ".py",
   "mimetype": "text/x-python",
   "name": "python",
   "nbconvert_exporter": "python",
   "pygments_lexer": "ipython3",
   "version": "3.8.8"
  }
 },
 "nbformat": 4,
 "nbformat_minor": 5
}
