{
 "cells": [
  {
   "cell_type": "code",
   "execution_count": 1,
   "id": "61cc2f82",
   "metadata": {},
   "outputs": [
    {
     "name": "stdout",
     "output_type": "stream",
     "text": [
      "1\n",
      "1\n",
      "2\n",
      "3\n",
      "5\n"
     ]
    }
   ],
   "source": [
    "def a(n):\n",
    "    if n==1 or n==2:\n",
    "        return 1\n",
    "    else:\n",
    "        return a(n-1)+a(n-2)\n",
    "print(a(1))\n",
    "print(a(2))\n",
    "print(a(3))\n",
    "print(a(4))\n",
    "print(a(5))\n"
   ]
  },
  {
   "cell_type": "code",
   "execution_count": 12,
   "id": "ce20d6f6",
   "metadata": {},
   "outputs": [
    {
     "name": "stdout",
     "output_type": "stream",
     "text": [
      "102334155 77\n"
     ]
    }
   ],
   "source": [
    "memo={1:1, 2:1}\n",
    "c=0\n",
    "\n",
    "def a(n):\n",
    "    global c\n",
    "    c+=1\n",
    "    if n in memo:\n",
    "        return memo[n]\n",
    "    else:\n",
    "        y=a(n-1)+a(n-2)\n",
    "        memo[n]=y\n",
    "        return y\n",
    "print(a(40), c)"
   ]
  },
  {
   "cell_type": "code",
   "execution_count": 9,
   "id": "09cd49e9",
   "metadata": {},
   "outputs": [
    {
     "name": "stdout",
     "output_type": "stream",
     "text": [
      "<class 'int'>\n",
      "<class 'int'>\n"
     ]
    }
   ],
   "source": [
    "a={'a':1, 'b':1, 'c':2, 'd':3, 'e':5}\n",
    "print(type(a['a']))\n",
    "b={1:1, 2:1, 3:2, 4:3, 5:5}\n",
    "print(type(b[1]))"
   ]
  },
  {
   "cell_type": "code",
   "execution_count": null,
   "id": "5af7ef0c",
   "metadata": {},
   "outputs": [],
   "source": []
  }
 ],
 "metadata": {
  "kernelspec": {
   "display_name": "Python 3",
   "language": "python",
   "name": "python3"
  },
  "language_info": {
   "codemirror_mode": {
    "name": "ipython",
    "version": 3
   },
   "file_extension": ".py",
   "mimetype": "text/x-python",
   "name": "python",
   "nbconvert_exporter": "python",
   "pygments_lexer": "ipython3",
   "version": "3.8.8"
  }
 },
 "nbformat": 4,
 "nbformat_minor": 5
}
