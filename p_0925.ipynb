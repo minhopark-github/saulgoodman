{
 "cells": [
  {
   "cell_type": "code",
   "execution_count": null,
   "id": "541caa67",
   "metadata": {},
   "outputs": [],
   "source": [
    "file_name= input(\"파일명 입력 > \")\n",
    "file=file_open(file_name,\"a\") #파일 오픈 함수 호출\n",
    "file_write(file) #파일에 저장하는 함수 호출\n",
    "file.close()\n",
    "#파일에서 자료를 가져와서 변수에 저장\n",
    "names, scores = [], []\n",
    "with file_open(file_name,\"r\") as file:\n",
    "    for itme in file:\n",
    "        values = item.split(',')\n",
    "        names.append(values[0])\n",
    "        scores.append(int(values[1]))\n",
    "#검색할 이름 입력\n",
    "name=input(\"find name >\")\n",
    "#자료 검색 : 존재하면 출력, 없으면 \"Not Found 출력\"\n",
    "if nmae in names:\n",
    "    print(\"{} : {}\".format(names,scores[names,index[name]]))\n",
    "else:\n",
    "    print(\"Not Found\")\n",
    "# 전체 성적의 합과 평균, 인원수 출력"
   ]
  },
  {
   "cell_type": "code",
   "execution_count": 11,
   "id": "47db785c",
   "metadata": {},
   "outputs": [
    {
     "name": "stdout",
     "output_type": "stream",
     "text": [
      "[1, 11, 434, 27343, 123152262341231, 2734312312312312312312]\n"
     ]
    }
   ],
   "source": [
    "L=[1,11,434,27343,123152262341231]\n",
    "x=2734312312312312312312\n",
    "def f(L,x):\n",
    "    idx=0\n",
    "    a=L\n",
    "    for i in L:\n",
    "        if i<x: #결과값은 같지만 i=x인 경우에는 idx가 바뀌지 않아도 좋다. 논리상 그보다 클때 인덱스가 변하는게 insert 함수 특성상 더 어울리니까.\n",
    "            idx+=1\n",
    "    a.insert(idx,x)\n",
    "    return a\n",
    "\n",
    "print(f(L,x))\n",
    "\n",
    "#또다른 방식으로, for i,v in enumerate L 이런 식으로 써서 v>x일때의 i에 insert 하고 for 문 자체를 break하는 방법도 있는데,\n",
    "#이때는 x값이 L에 존재하는 모든 v보다 큰 경우를 따로 핸들링 해줘야 하며, 그때는 insert함수의 인덱스가 -1을 쓸 수 없다는 점에 주의"
   ]
  },
  {
   "cell_type": "code",
   "execution_count": null,
   "id": "6a847579",
   "metadata": {},
   "outputs": [],
   "source": []
  }
 ],
 "metadata": {
  "kernelspec": {
   "display_name": "Python 3",
   "language": "python",
   "name": "python3"
  },
  "language_info": {
   "codemirror_mode": {
    "name": "ipython",
    "version": 3
   },
   "file_extension": ".py",
   "mimetype": "text/x-python",
   "name": "python",
   "nbconvert_exporter": "python",
   "pygments_lexer": "ipython3",
   "version": "3.8.8"
  }
 },
 "nbformat": 4,
 "nbformat_minor": 5
}
