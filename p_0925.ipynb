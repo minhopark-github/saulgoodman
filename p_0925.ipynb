{
 "cells": [
  {
   "cell_type": "code",
   "execution_count": null,
   "source": [
    "file_name= input(\"파일명 입력 > \")\r\n",
    "file=file_open(file_name,\"a\") #파일 오픈 함수 호출\r\n",
    "file_write(file) #파일에 저장하는 함수 호출\r\n",
    "file.close()\r\n",
    "#파일에서 자료를 가져와서 변수에 저장\r\n",
    "names, scores = [], []\r\n",
    "with file_open(file_name,\"r\") as file:\r\n",
    "    for item in file:\r\n",
    "        values = item.split(',')\r\n",
    "        names.append(values[0])\r\n",
    "        scores.append(int(values[1]))\r\n",
    "#검색할 이름 입력\r\n",
    "name=input(\"find name >\")\r\n",
    "#자료 검색 : 존재하면 출력, 없으면 \"Not Found 출력\"\r\n",
    "if name in names:\r\n",
    "    print(\"{} : {}\".format(names,scores[names,index[name]]))\r\n",
    "else:\r\n",
    "    print(\"Not Found\")\r\n",
    "# 전체 성적의 합과 평균, 인원수 출력"
   ],
   "outputs": [],
   "metadata": {}
  },
  {
   "cell_type": "code",
   "execution_count": 11,
   "source": [
    "L=[1,11,434,27343,123152262341231]\r\n",
    "x=2734312312312312312312\r\n",
    "def f(L,x):\r\n",
    "    idx=0\r\n",
    "    a=L\r\n",
    "    for i in L:\r\n",
    "        if i<x: #결과값은 같지만 i=x인 경우에는 idx가 바뀌지 않아도 좋다. 논리상 그보다 클때 인덱스가 변하는게 insert 함수 특성상 더 어울리니까.\r\n",
    "            idx+=1\r\n",
    "    a.insert(idx,x)\r\n",
    "    return a\r\n",
    "\r\n",
    "print(f(L,x))\r\n",
    "\r\n",
    "#또다른 방식으로, for i,v in enumerate L 이런 식으로 써서 v>x일때의 i에 insert 하고 for 문 자체를 break하는 방법도 있는데,\r\n",
    "#이때는 x값이 L에 존재하는 모든 v보다 큰 경우를 따로 핸들링 해줘야 하며, 그때는 insert함수의 인덱스가 -1을 쓸 수 없다는 점에 주의"
   ],
   "outputs": [
    {
     "output_type": "stream",
     "name": "stdout",
     "text": [
      "[1, 11, 434, 27343, 123152262341231, 2734312312312312312312]\n"
     ]
    }
   ],
   "metadata": {}
  },
  {
   "cell_type": "code",
   "execution_count": null,
   "source": [],
   "outputs": [],
   "metadata": {}
  }
 ],
 "metadata": {
  "kernelspec": {
   "display_name": "Python 3",
   "language": "python",
   "name": "python3"
  },
  "language_info": {
   "codemirror_mode": {
    "name": "ipython",
    "version": 3
   },
   "file_extension": ".py",
   "mimetype": "text/x-python",
   "name": "python",
   "nbconvert_exporter": "python",
   "pygments_lexer": "ipython3",
   "version": "3.8.8"
  }
 },
 "nbformat": 4,
 "nbformat_minor": 5
}